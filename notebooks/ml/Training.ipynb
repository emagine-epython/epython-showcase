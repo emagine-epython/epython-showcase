{
 "cells": [
  {
   "cell_type": "markdown",
   "metadata": {},
   "source": [
    "Author: Tony Yum"
   ]
  },
  {
   "cell_type": "markdown",
   "metadata": {},
   "source": [
    "## Example of training AI to trade"
   ]
  },
  {
   "cell_type": "markdown",
   "metadata": {},
   "source": [
    "Run the below the first time an instance is created to install necessary libs"
   ]
  },
  {
   "cell_type": "code",
   "execution_count": 1,
   "metadata": {
    "collapsed": true,
    "jupyter": {
     "outputs_hidden": true
    }
   },
   "outputs": [
    {
     "name": "stdout",
     "output_type": "stream",
     "text": [
      "Collecting pip\n",
      "  Using cached pip-20.2.4-py2.py3-none-any.whl (1.5 MB)\n",
      "Installing collected packages: pip\n",
      "  Attempting uninstall: pip\n",
      "    Found existing installation: pip 20.0.2\n",
      "    Uninstalling pip-20.0.2:\n",
      "      Successfully uninstalled pip-20.0.2\n",
      "Successfully installed pip-20.2.4\n",
      "Collecting kydb\n",
      "  Using cached kydb-0.5.0-py3-none-any.whl (20 kB)\n",
      "Collecting matplotlib\n",
      "  Using cached matplotlib-3.3.2-cp36-cp36m-manylinux1_x86_64.whl (11.6 MB)\n",
      "Processing ./.cache/pip/wheels/9d/90/64/88411837e80bb520d15ae395f39359a5413e7a00ae63397e10/feather_format-0.4.1-py3-none-any.whl\n",
      "Collecting s3fs\n",
      "  Using cached s3fs-0.5.1-py3-none-any.whl (21 kB)\n",
      "Collecting boto3\n",
      "  Using cached boto3-1.16.6-py2.py3-none-any.whl (129 kB)\n",
      "Collecting redis\n",
      "  Using cached redis-3.5.3-py2.py3-none-any.whl (72 kB)\n",
      "Requirement already satisfied, skipping upgrade: python-dateutil>=2.1 in /usr/local/lib/python3.6/dist-packages (from matplotlib) (2.8.1)\n",
      "Collecting certifi>=2020.06.20\n",
      "  Using cached certifi-2020.6.20-py2.py3-none-any.whl (156 kB)\n",
      "Requirement already satisfied, skipping upgrade: pillow>=6.2.0 in /usr/local/lib/python3.6/dist-packages (from matplotlib) (6.2.1)\n",
      "Requirement already satisfied, skipping upgrade: numpy>=1.15 in /usr/local/lib/python3.6/dist-packages (from matplotlib) (1.18.2)\n",
      "Requirement already satisfied, skipping upgrade: pyparsing!=2.0.4,!=2.1.2,!=2.1.6,>=2.0.3 in /usr/local/lib/python3.6/dist-packages (from matplotlib) (2.4.6)\n",
      "Collecting cycler>=0.10\n",
      "  Using cached cycler-0.10.0-py2.py3-none-any.whl (6.5 kB)\n",
      "Collecting kiwisolver>=1.0.1\n",
      "  Using cached kiwisolver-1.3.0-cp36-cp36m-manylinux2010_x86_64.whl (1.6 MB)\n",
      "Collecting pyarrow>=0.4.0\n",
      "  Using cached pyarrow-2.0.0-cp36-cp36m-manylinux2014_x86_64.whl (17.7 MB)\n",
      "Collecting fsspec>=0.8.0\n",
      "  Using cached fsspec-0.8.4-py3-none-any.whl (91 kB)\n",
      "Collecting aiobotocore>=1.0.1\n",
      "  Using cached aiobotocore-1.1.2-py3-none-any.whl (45 kB)\n",
      "Requirement already satisfied, skipping upgrade: s3transfer<0.4.0,>=0.3.0 in /usr/local/lib/python3.6/dist-packages (from boto3) (0.3.3)\n",
      "Collecting botocore<1.20.0,>=1.19.6\n",
      "  Using cached botocore-1.19.6-py2.py3-none-any.whl (6.7 MB)\n",
      "Requirement already satisfied, skipping upgrade: jmespath<1.0.0,>=0.7.1 in /usr/local/lib/python3.6/dist-packages (from boto3) (0.9.5)\n",
      "Requirement already satisfied, skipping upgrade: six>=1.5 in /usr/local/lib/python3.6/dist-packages (from python-dateutil>=2.1->matplotlib) (1.14.0)\n",
      "Requirement already satisfied, skipping upgrade: wrapt>=1.10.10 in /usr/local/lib/python3.6/dist-packages (from aiobotocore>=1.0.1->s3fs) (1.12.1)\n",
      "Collecting aioitertools>=0.5.1\n",
      "  Using cached aioitertools-0.7.0-py3-none-any.whl (20 kB)\n",
      "Collecting aiohttp>=3.3.1\n",
      "  Using cached aiohttp-3.7.2-cp36-cp36m-manylinux2014_x86_64.whl (1.3 MB)\n",
      "Requirement already satisfied, skipping upgrade: urllib3<1.26,>=1.25.4; python_version != \"3.4\" in /usr/local/lib/python3.6/dist-packages (from botocore<1.20.0,>=1.19.6->boto3) (1.25.8)\n",
      "Collecting typing_extensions>=3.7\n",
      "  Using cached typing_extensions-3.7.4.3-py3-none-any.whl (22 kB)\n",
      "Collecting yarl<2.0,>=1.0\n",
      "  Using cached yarl-1.6.2-cp36-cp36m-manylinux2014_x86_64.whl (295 kB)\n",
      "Collecting attrs>=17.3.0\n",
      "  Using cached attrs-20.2.0-py2.py3-none-any.whl (48 kB)\n",
      "Collecting multidict<7.0,>=4.5\n",
      "  Using cached multidict-5.0.0-cp36-cp36m-manylinux2014_x86_64.whl (141 kB)\n",
      "Requirement already satisfied, skipping upgrade: chardet<4.0,>=2.0 in /usr/local/lib/python3.6/dist-packages (from aiohttp>=3.3.1->aiobotocore>=1.0.1->s3fs) (3.0.4)\n",
      "Processing ./.cache/pip/wheels/6a/f5/9c/f8331a854f7a8739cf0e74c13854e4dd7b1af11b04fe1dde13/idna_ssl-1.1.0-py3-none-any.whl\n",
      "Collecting async-timeout<4.0,>=3.0\n",
      "  Using cached async_timeout-3.0.1-py3-none-any.whl (8.2 kB)\n",
      "Requirement already satisfied, skipping upgrade: idna>=2.0 in /usr/local/lib/python3.6/dist-packages (from yarl<2.0,>=1.0->aiohttp>=3.3.1->aiobotocore>=1.0.1->s3fs) (2.8)\n",
      "Installing collected packages: botocore, boto3, redis, kydb, certifi, cycler, kiwisolver, matplotlib, pyarrow, feather-format, fsspec, typing-extensions, aioitertools, multidict, yarl, attrs, idna-ssl, async-timeout, aiohttp, aiobotocore, s3fs\n",
      "  Attempting uninstall: botocore\n",
      "    Found existing installation: botocore 1.15.24\n",
      "    Uninstalling botocore-1.15.24:\n",
      "      Successfully uninstalled botocore-1.15.24\n",
      "  Attempting uninstall: boto3\n",
      "    Found existing installation: boto3 1.12.24\n",
      "    Uninstalling boto3-1.12.24:\n",
      "      Successfully uninstalled boto3-1.12.24\n",
      "  Attempting uninstall: certifi\n",
      "    Found existing installation: certifi 2019.11.28\n",
      "    Uninstalling certifi-2019.11.28:\n",
      "      Successfully uninstalled certifi-2019.11.28\n",
      "\u001b[31mERROR: After October 2020 you may experience errors when installing or updating packages. This is because pip will change the way that it resolves dependency conflicts.\n",
      "\n",
      "We recommend you use --use-feature=2020-resolver to test your packages with the new resolver before it becomes the default.\n",
      "\n",
      "awscli 1.18.24 requires botocore==1.15.24, but you'll have botocore 1.19.6 which is incompatible.\n",
      "aiobotocore 1.1.2 requires botocore<1.17.45,>=1.17.44, but you'll have botocore 1.19.6 which is incompatible.\u001b[0m\n",
      "Successfully installed aiobotocore-1.1.2 aiohttp-3.7.2 aioitertools-0.7.0 async-timeout-3.0.1 attrs-20.2.0 boto3-1.16.6 botocore-1.19.6 certifi-2020.6.20 cycler-0.10.0 feather-format-0.4.1 fsspec-0.8.4 idna-ssl-1.1.0 kiwisolver-1.3.0 kydb-0.5.0 matplotlib-3.3.2 multidict-5.0.0 pyarrow-2.0.0 redis-3.5.3 s3fs-0.5.1 typing-extensions-3.7.4.3 yarl-1.6.2\n"
     ]
    }
   ],
   "source": [
    "!python3 -m pip install --upgrade pip\n",
    "!pip install kydb matplotlib feather-format s3fs boto3 --upgrade"
   ]
  },
  {
   "cell_type": "markdown",
   "metadata": {},
   "source": [
    "## Imports\n",
    "\n",
    "Add epython-showcase to PYTHONPATH"
   ]
  },
  {
   "cell_type": "code",
   "execution_count": 1,
   "metadata": {},
   "outputs": [],
   "source": [
    "import os\n",
    "os.sys.path.append('epython-showcase')"
   ]
  },
  {
   "cell_type": "markdown",
   "metadata": {},
   "source": [
    "Import the libs"
   ]
  },
  {
   "cell_type": "code",
   "execution_count": 2,
   "metadata": {
    "collapsed": true,
    "jupyter": {
     "outputs_hidden": true
    }
   },
   "outputs": [
    {
     "name": "stdout",
     "output_type": "stream",
     "text": [
      "WARNING:tensorflow:From /usr/local/lib/python3.6/dist-packages/tensorflow_core/__init__.py:1467: The name tf.estimator.inputs is deprecated. Please use tf.compat.v1.estimator.inputs instead.\n",
      "\n"
     ]
    }
   ],
   "source": [
    "import kydb\n",
    "import tensorflow as tf\n",
    "import numpy as np\n",
    "import matplotlib.pyplot as plt\n",
    "import pandas as pd\n",
    "from tensorflow.keras.utils import Sequence\n",
    "from tensorflow.keras.models import load_model\n",
    "import math\n",
    "from datetime import date\n",
    "from multiprocessing import Pool, cpu_count\n",
    "from ml.train_sequence import TrainSequence\n",
    "%matplotlib inline"
   ]
  },
  {
   "cell_type": "markdown",
   "metadata": {},
   "source": [
    "## Download the training data"
   ]
  },
  {
   "cell_type": "code",
   "execution_count": 3,
   "metadata": {},
   "outputs": [],
   "source": [
    "start_date = date(2017, 6, 1)\n",
    "end_date = date(2020, 6, 1)\n",
    "db = kydb.connect('dynamodb://epython/timeseries')\n",
    "ts = db['/symbols/ml/training_data/FX_BTC_JPY']\n",
    "pos_df = ts.curve(start_date, end_date)"
   ]
  },
  {
   "cell_type": "markdown",
   "metadata": {},
   "source": [
    "## Setup the model and train"
   ]
  },
  {
   "cell_type": "markdown",
   "metadata": {},
   "source": [
    "### Test on 3 days data"
   ]
  },
  {
   "cell_type": "code",
   "execution_count": 4,
   "metadata": {},
   "outputs": [
    {
     "name": "stdout",
     "output_type": "stream",
     "text": [
      "WARNING:tensorflow:From /usr/local/lib/python3.6/dist-packages/tensorflow_core/python/ops/resource_variable_ops.py:1630: calling BaseResourceVariable.__init__ (from tensorflow.python.ops.resource_variable_ops) with constraint is deprecated and will be removed in a future version.\n",
      "Instructions for updating:\n",
      "If using Keras pass *_constraint arguments to layers.\n",
      "Epoch 1/5\n",
      "90/90 [==============================] - 3s 37ms/step - loss: 0.4295 - acc: 0.7903\n",
      "Epoch 2/5\n",
      "90/90 [==============================] - 3s 35ms/step - loss: 0.1045 - acc: 0.9601\n",
      "Epoch 3/5\n",
      "90/90 [==============================] - 3s 34ms/step - loss: 0.0727 - acc: 0.9740\n",
      "Epoch 4/5\n",
      "90/90 [==============================] - 3s 35ms/step - loss: 0.0828 - acc: 0.9688\n",
      "Epoch 5/5\n",
      "90/90 [==============================] - 3s 35ms/step - loss: 0.0519 - acc: 0.9774\n"
     ]
    },
    {
     "data": {
      "text/plain": [
       "<tensorflow.python.keras.callbacks.History at 0x7f646d8216d8>"
      ]
     },
     "execution_count": 4,
     "metadata": {},
     "output_type": "execute_result"
    }
   ],
   "source": [
    "start_time = 3*30*24*60\n",
    "\n",
    "seq = TrainSequence(pos_df[start_time-60*24:start_time+60*24*2].reset_index()[['mid', 'position']].copy())\n",
    "model = tf.keras.models.Sequential([\n",
    "  tf.keras.layers.Dense(512, input_shape=(seq.lookback_period,), activation=tf.nn.relu),    \n",
    "  tf.keras.layers.Dense(512, activation=tf.nn.relu),  \n",
    "  tf.keras.layers.Dropout(0.2),\n",
    "  tf.keras.layers.Dense(2, activation=tf.nn.softmax)\n",
    "])\n",
    "model.compile(optimizer='adam',\n",
    "              loss='sparse_categorical_crossentropy',\n",
    "              metrics=['accuracy'])              \n",
    "\n",
    "model.fit_generator(generator=seq, epochs=5, workers=cpu_count(), use_multiprocessing=True)"
   ]
  },
  {
   "cell_type": "code",
   "execution_count": 5,
   "metadata": {},
   "outputs": [
    {
     "data": {
      "image/png": "[encoded data removed]",
      "text/plain": [
       "<Figure size 432x288 with 1 Axes>"
      ]
     },
     "metadata": {
      "needs_background": "light"
     },
     "output_type": "display_data"
    }
   ],
   "source": [
    "def get_batch(args):\n",
    "    idx, seq = args\n",
    "    return seq[idx]\n",
    "\n",
    "def plot_actual_vs_predict(model, t1, t2):\n",
    "    seq = TrainSequence(pos_df[t1:t2].reset_index()[['mid', 'position']].copy(), enable_shuffle=False)\n",
    "    p = Pool(cpu_count())\n",
    "    batches = p.map(get_batch, enumerate([seq] * len(seq)))\n",
    "\n",
    "    xs = np.concatenate([batches[i][0] for i in range(len(seq))])\n",
    "    ys = np.concatenate([batches[i][1] for i in range(len(seq))])\n",
    "    y_pred = model.predict(xs)\n",
    "    plt.plot(y_pred[:, 1])\n",
    "    plt.plot(ys)\n",
    "\n",
    "plot_actual_vs_predict(model, start_time-60*24, start_time+60*24*2)"
   ]
  },
  {
   "cell_type": "markdown",
   "metadata": {},
   "source": [
    "### Test on 10 days"
   ]
  },
  {
   "cell_type": "code",
   "execution_count": 6,
   "metadata": {},
   "outputs": [
    {
     "name": "stdout",
     "output_type": "stream",
     "text": [
      "Epoch 1/5\n",
      "450/450 [==============================] - 18s 40ms/step - loss: 0.6019 - acc: 0.6431\n",
      "Epoch 2/5\n",
      "450/450 [==============================] - 18s 39ms/step - loss: 0.3573 - acc: 0.8305\n",
      "Epoch 3/5\n",
      "450/450 [==============================] - 18s 40ms/step - loss: 0.1949 - acc: 0.9240\n",
      "Epoch 4/5\n",
      "450/450 [==============================] - 18s 39ms/step - loss: 0.1357 - acc: 0.9495\n",
      "Epoch 5/5\n",
      "450/450 [==============================] - 18s 39ms/step - loss: 0.1118 - acc: 0.9592\n"
     ]
    },
    {
     "data": {
      "text/plain": [
       "<tensorflow.python.keras.callbacks.History at 0x7f6479fa86d8>"
      ]
     },
     "execution_count": 6,
     "metadata": {},
     "output_type": "execute_result"
    }
   ],
   "source": [
    "start_time = 3*30*24*60\n",
    "days_to_train = 10\n",
    "\n",
    "seq = TrainSequence(pos_df[start_time-60*24:start_time+60*24*days_to_train].reset_index()[['mid', 'position']].copy())\n",
    "model = tf.keras.models.Sequential([\n",
    "  tf.keras.layers.Dense(512, input_shape=(seq.lookback_period,), activation=tf.nn.relu),    \n",
    "  tf.keras.layers.Dense(512, activation=tf.nn.relu),  \n",
    "  tf.keras.layers.Dropout(0.2),\n",
    "  tf.keras.layers.Dense(2, activation=tf.nn.softmax)\n",
    "])\n",
    "model.compile(optimizer='adam',\n",
    "              loss='sparse_categorical_crossentropy',\n",
    "              metrics=['accuracy'])              \n",
    "\n",
    "model.fit_generator(generator=seq, epochs=5, workers=cpu_count(), use_multiprocessing=True)"
   ]
  },
  {
   "cell_type": "code",
   "execution_count": 7,
   "metadata": {},
   "outputs": [
    {
     "data": {
      "image/png": "[encoded data removed]",
      "text/plain": [
       "<Figure size 432x288 with 1 Axes>"
      ]
     },
     "metadata": {
      "needs_background": "light"
     },
     "output_type": "display_data"
    }
   ],
   "source": [
    "plot_actual_vs_predict(model, start_time-60*24, start_time+60*24*days_to_train)"
   ]
  },
  {
   "cell_type": "markdown",
   "metadata": {},
   "source": [
    "### Test on 20 days"
   ]
  },
  {
   "cell_type": "code",
   "execution_count": 8,
   "metadata": {},
   "outputs": [
    {
     "name": "stdout",
     "output_type": "stream",
     "text": [
      "Epoch 1/10\n",
      "80/80 [==============================] - 27s 343ms/step - loss: 0.7494 - acc: 0.5805\n",
      "Epoch 2/10\n",
      "80/80 [==============================] - 27s 342ms/step - loss: 0.6132 - acc: 0.6575\n",
      "Epoch 3/10\n",
      "80/80 [==============================] - 27s 341ms/step - loss: 0.5635 - acc: 0.7087\n",
      "Epoch 4/10\n",
      "80/80 [==============================] - 27s 341ms/step - loss: 0.5226 - acc: 0.7357\n",
      "Epoch 5/10\n",
      "80/80 [==============================] - 27s 341ms/step - loss: 0.4726 - acc: 0.7717\n",
      "Epoch 6/10\n",
      "80/80 [==============================] - 27s 341ms/step - loss: 0.3825 - acc: 0.8308\n",
      "Epoch 7/10\n",
      "80/80 [==============================] - 27s 342ms/step - loss: 0.3152 - acc: 0.8662\n",
      "Epoch 8/10\n",
      "80/80 [==============================] - 27s 341ms/step - loss: 0.2254 - acc: 0.9170\n",
      "Epoch 9/10\n",
      "80/80 [==============================] - 27s 342ms/step - loss: 0.1893 - acc: 0.9297\n",
      "Epoch 10/10\n",
      "80/80 [==============================] - 28s 345ms/step - loss: 0.1435 - acc: 0.9492\n"
     ]
    },
    {
     "data": {
      "text/plain": [
       "<tensorflow.python.keras.callbacks.History at 0x7f6479e1de80>"
      ]
     },
     "execution_count": 8,
     "metadata": {},
     "output_type": "execute_result"
    }
   ],
   "source": [
    "start_time = 3*30*24*60\n",
    "days_to_train = 20\n",
    "\n",
    "train_data = pos_df[start_time-60*24:start_time+60*24*days_to_train].reset_index()[['mid', 'position']].copy()\n",
    "seq = TrainSequence(train_data, batch_size=60*6)\n",
    "model = tf.keras.models.Sequential([\n",
    "  tf.keras.layers.Dense(512, input_shape=(seq.lookback_period,), activation=tf.nn.relu),    \n",
    "  tf.keras.layers.Dense(512, activation=tf.nn.relu),  \n",
    "  tf.keras.layers.Dropout(0.2),\n",
    "  tf.keras.layers.Dense(2, activation=tf.nn.softmax)\n",
    "])\n",
    "model.compile(optimizer='adam',\n",
    "              loss='sparse_categorical_crossentropy',\n",
    "              metrics=['accuracy'])              \n",
    "\n",
    "model.fit_generator(generator=seq, epochs=10, workers=cpu_count(), use_multiprocessing=True)"
   ]
  },
  {
   "cell_type": "code",
   "execution_count": 9,
   "metadata": {},
   "outputs": [
    {
     "data": {
      "image/png": "[encoded data removed]",
      "text/plain": [
       "<Figure size 432x288 with 1 Axes>"
      ]
     },
     "metadata": {
      "needs_background": "light"
     },
     "output_type": "display_data"
    }
   ],
   "source": [
    "plot_actual_vs_predict(model, start_time-60*24, start_time+60*24*days_to_train)"
   ]
  },
  {
   "cell_type": "markdown",
   "metadata": {},
   "source": [
    "### The full run"
   ]
  },
  {
   "cell_type": "code",
   "execution_count": 10,
   "metadata": {},
   "outputs": [
    {
     "name": "stdout",
     "output_type": "stream",
     "text": [
      "Epoch 1/10\n",
      "72/72 [==============================] - 519s 7s/step - loss: 0.8653 - acc: 0.5548\n",
      "Epoch 2/10\n",
      "72/72 [==============================] - 520s 7s/step - loss: 0.6456 - acc: 0.6383\n",
      "Epoch 3/10\n",
      "72/72 [==============================] - 521s 7s/step - loss: 0.6343 - acc: 0.6482\n",
      "Epoch 4/10\n",
      "72/72 [==============================] - 521s 7s/step - loss: 0.6211 - acc: 0.6614\n",
      "Epoch 5/10\n",
      "72/72 [==============================] - 521s 7s/step - loss: 0.6098 - acc: 0.6715\n",
      "Epoch 6/10\n",
      "72/72 [==============================] - 522s 7s/step - loss: 0.5971 - acc: 0.6835\n",
      "Epoch 7/10\n",
      "72/72 [==============================] - 522s 7s/step - loss: 0.5915 - acc: 0.6868\n",
      "Epoch 8/10\n",
      "72/72 [==============================] - 522s 7s/step - loss: 0.5759 - acc: 0.7010\n",
      "Epoch 9/10\n",
      "72/72 [==============================] - 523s 7s/step - loss: 0.5659 - acc: 0.7082\n",
      "Epoch 10/10\n",
      "72/72 [==============================] - 523s 7s/step - loss: 0.5504 - acc: 0.7205\n"
     ]
    },
    {
     "data": {
      "text/plain": [
       "<tensorflow.python.keras.callbacks.History at 0x7f6478348b00>"
      ]
     },
     "execution_count": 10,
     "metadata": {},
     "output_type": "execute_result"
    }
   ],
   "source": [
    "train_data = pos_df[-60*24*365:].reset_index()[['mid', 'position']].copy()\n",
    "seq = TrainSequence(train_data, batch_size=60*24*5)\n",
    "model = tf.keras.models.Sequential([\n",
    "  tf.keras.layers.Dense(1024, input_shape=(seq.lookback_period,), activation=tf.nn.relu),    \n",
    "  tf.keras.layers.Dense(1024, activation=tf.nn.relu),  \n",
    "  tf.keras.layers.Dropout(0.2),\n",
    "  tf.keras.layers.Dense(2, activation=tf.nn.softmax)\n",
    "])\n",
    "model.compile(optimizer='adam',\n",
    "              loss='sparse_categorical_crossentropy',\n",
    "              metrics=['accuracy'])              \n",
    "\n",
    "model.fit_generator(generator=seq, epochs=10, workers=cpu_count(), use_multiprocessing=True)"
   ]
  },
  {
   "cell_type": "markdown",
   "metadata": {},
   "source": [
    "## Save the trained model"
   ]
  },
  {
   "cell_type": "code",
   "execution_count": 11,
   "metadata": {},
   "outputs": [],
   "source": [
    "model_file = 'fx_btc_jpy_model.h5'\n",
    "model.save(model_file)"
   ]
  },
  {
   "cell_type": "code",
   "execution_count": 14,
   "metadata": {},
   "outputs": [
    {
     "name": "stdout",
     "output_type": "stream",
     "text": [
      "-rw-r--r-- 1 root root 29M Oct 28 14:36 fx_btc_jpy_model.h5\n"
     ]
    }
   ],
   "source": [
    "!ls -lh fx_btc_jpy_model.h5"
   ]
  },
  {
   "cell_type": "code",
   "execution_count": 16,
   "metadata": {},
   "outputs": [],
   "source": [
    "db = kydb.connect('s3://epython')"
   ]
  },
  {
   "cell_type": "code",
   "execution_count": 20,
   "metadata": {},
   "outputs": [],
   "source": [
    "with open(model_file, 'rb') as f:\n",
    "    data = f.read()\n",
    "\n",
    "db['/ml/models/' + model_file] = data"
   ]
  }
 ],
 "metadata": {
  "instance_type": "ml.t3.medium",
  "kernelspec": {
   "display_name": "Python 3",
   "language": "python",
   "name": "python3"
  },
  "language_info": {
   "codemirror_mode": {
    "name": "ipython",
    "version": 3
   },
   "file_extension": ".py",
   "mimetype": "text/x-python",
   "name": "python",
   "nbconvert_exporter": "python",
   "pygments_lexer": "ipython3",
   "version": "3.6.12"
  }
 },
 "nbformat": 4,
 "nbformat_minor": 4
}
