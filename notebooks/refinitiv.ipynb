{
 "cells": [
  {
   "cell_type": "markdown",
   "metadata": {},
   "source": [
    "# Processing Refinitiv Marketdata "
   ]
  },
  {
   "cell_type": "markdown",
   "metadata": {},
   "source": [
    "## Imports"
   ]
  },
  {
   "cell_type": "code",
   "execution_count": 64,
   "metadata": {},
   "outputs": [],
   "source": [
    "import s3fs\n",
    "import bz2\n",
    "import boto3\n",
    "import pandas as pd\n",
    "import io"
   ]
  },
  {
   "cell_type": "code",
   "execution_count": 39,
   "metadata": {},
   "outputs": [],
   "source": [
    "SRC_BUCKET='epython'\n",
    "SRC_PATH='mktdata/refinitiv/raw_bars/'\n",
    "DST_BUCKET='epython-marketdata'"
   ]
  },
  {
   "cell_type": "code",
   "execution_count": 2,
   "metadata": {},
   "outputs": [],
   "source": [
    "s3 = s3fs.S3FileSystem()"
   ]
  },
  {
   "cell_type": "code",
   "execution_count": 3,
   "metadata": {},
   "outputs": [],
   "source": [
    "inst_type = 'IR'"
   ]
  },
  {
   "cell_type": "markdown",
   "metadata": {},
   "source": [
    "## Getting files by instrument"
   ]
  },
  {
   "cell_type": "code",
   "execution_count": 41,
   "metadata": {},
   "outputs": [],
   "source": [
    "def get_files_for_inst(inst_type):\n",
    "    client = boto3.client('s3')\n",
    "    paginator = client.get_paginator('list_objects')\n",
    "    \n",
    "    page_iterator = paginator.paginate(\n",
    "        Bucket=SRC_BUCKET,\n",
    "        Prefix=SRC_PATH)\n",
    "\n",
    "    for page in page_iterator:\n",
    "        for content in page['Contents']:\n",
    "            key = content['Key']\n",
    "            if key.endswith('bz2') and f'/{inst_type}=' in key:\n",
    "                yield key\n",
    "                "
   ]
  },
  {
   "cell_type": "markdown",
   "metadata": {},
   "source": [
    "Let's see a few examples of **IR** files"
   ]
  },
  {
   "cell_type": "code",
   "execution_count": 89,
   "metadata": {},
   "outputs": [
    {
     "name": "stdout",
     "output_type": "stream",
     "text": [
      "mktdata/refinitiv/raw_bars/20201014/IR=AUD=Swap_3M=20y(Ric_AUDQM3AB20Y=TWEB).csv.bz2\n",
      "mktdata/refinitiv/raw_bars/20201014/IR=AUD=Swap_3M=25y(Ric_AUDQM3AB25Y=FMD).csv.bz2\n",
      "mktdata/refinitiv/raw_bars/20201014/IR=AUD=Swap_3M=25y(Ric_AUDQM3AB25Y=TWEB).csv.bz2\n",
      "mktdata/refinitiv/raw_bars/20201014/IR=AUD=Swap_3M=2y(Ric_AUDQM3AB2Y=BGCP).csv.bz2\n",
      "mktdata/refinitiv/raw_bars/20201014/IR=AUD=Swap_3M=2y(Ric_AUDQM3AB2Y=FMD).csv.bz2\n"
     ]
    }
   ],
   "source": [
    "### paths = get_files_for_inst('IR')\n",
    "for _ in range(5):\n",
    "    print(next(paths))"
   ]
  },
  {
   "cell_type": "markdown",
   "metadata": {},
   "source": [
    "## Translate to destination path"
   ]
  },
  {
   "cell_type": "markdown",
   "metadata": {},
   "source": [
    "To help DataLake partition with appropriate columns, we use *Key=Value* subdirectories. "
   ]
  },
  {
   "cell_type": "code",
   "execution_count": 78,
   "metadata": {},
   "outputs": [],
   "source": [
    "def get_dest_path(inst_type, src_path):\n",
    "    parts = src_path.split('/')\n",
    "    date, filename = parts[3], parts[4]\n",
    "    if inst_type == 'IR':\n",
    "        _, ccy, curve, tenor = filename.split('(', 1)[0].split('=')\n",
    "        keys = [('date', date), ('ccy', ccy), ('curve', curve), ('tenor', tenor)]\n",
    "    else:\n",
    "        ## TODO:\n",
    "        ## Perhaps many instruments has the same format as IR, but need to check\n",
    "        raise NotImpelmentedError(f'{isnt_type} not yet implemented')\n",
    "                                  \n",
    "    subdir = '/'.join('='.join(x) for x in keys)\n",
    "    return f'refinitiv/{subdir}/{filename}'"
   ]
  },
  {
   "cell_type": "markdown",
   "metadata": {},
   "source": [
    "And here's an example"
   ]
  },
  {
   "cell_type": "code",
   "execution_count": 79,
   "metadata": {},
   "outputs": [
    {
     "data": {
      "text/plain": [
       "'refinitiv/date=20201014/ccy=AUD/curve=Swap_3M/tenor=12y/IR=AUD=Swap_3M=12y(Ric_AUDQM3AB12Y=FMD).csv.bz2'"
      ]
     },
     "execution_count": 79,
     "metadata": {},
     "output_type": "execute_result"
    }
   ],
   "source": [
    "get_dest_path('IR', 'mktdata/refinitiv/raw_bars/20201014/IR=AUD=Swap_3M=12y(Ric_AUDQM3AB12Y=FMD).csv.bz2')"
   ]
  },
  {
   "cell_type": "markdown",
   "metadata": {},
   "source": [
    "## Process the file content"
   ]
  },
  {
   "cell_type": "code",
   "execution_count": 71,
   "metadata": {},
   "outputs": [],
   "source": [
    "def process_file(path):\n",
    "    with s3.open(path) as f:\n",
    "        data = f.read()\n",
    "\n",
    "    data = bz2.decompress(data).decode()\n",
    "    # Nothing fancy for now. Just cut off the '#' in front of the header\n",
    "    # as the Crawler thinks it's a comment\n",
    "    return data[1:]\n"
   ]
  },
  {
   "cell_type": "markdown",
   "metadata": {},
   "source": [
    "### Visulise the data\n",
    "\n",
    "Not required, but just for our sanity, let's visualise the data"
   ]
  },
  {
   "cell_type": "code",
   "execution_count": 72,
   "metadata": {},
   "outputs": [
    {
     "data": {
      "text/html": [
       "<div>\n",
       "<style scoped>\n",
       "    .dataframe tbody tr th:only-of-type {\n",
       "        vertical-align: middle;\n",
       "    }\n",
       "\n",
       "    .dataframe tbody tr th {\n",
       "        vertical-align: top;\n",
       "    }\n",
       "\n",
       "    .dataframe thead th {\n",
       "        text-align: right;\n",
       "    }\n",
       "</style>\n",
       "<table border=\"1\" class=\"dataframe\">\n",
       "  <thead>\n",
       "    <tr style=\"text-align: right;\">\n",
       "      <th></th>\n",
       "      <th>RIC</th>\n",
       "      <th>Domain</th>\n",
       "      <th>Date-Time</th>\n",
       "      <th>GMT Offset</th>\n",
       "      <th>Type</th>\n",
       "      <th>Price</th>\n",
       "      <th>Bid Price</th>\n",
       "      <th>Ask Price</th>\n",
       "      <th>UserDefinedIdentifier</th>\n",
       "    </tr>\n",
       "  </thead>\n",
       "  <tbody>\n",
       "    <tr>\n",
       "      <th>0</th>\n",
       "      <td>AUDSM6AB25Y=TWEB</td>\n",
       "      <td>Market Price</td>\n",
       "      <td>2020-10-15T00:09:14.890626000Z</td>\n",
       "      <td>-4</td>\n",
       "      <td>Trade</td>\n",
       "      <td>1.164</td>\n",
       "      <td>NaN</td>\n",
       "      <td>NaN</td>\n",
       "      <td>IR:AUD:Swap_6M:25y</td>\n",
       "    </tr>\n",
       "    <tr>\n",
       "      <th>1</th>\n",
       "      <td>AUDSM6AB25Y=TWEB</td>\n",
       "      <td>Market Price</td>\n",
       "      <td>2020-10-15T00:09:14.890626000Z</td>\n",
       "      <td>-4</td>\n",
       "      <td>Quote</td>\n",
       "      <td>NaN</td>\n",
       "      <td>1.164</td>\n",
       "      <td>1.189</td>\n",
       "      <td>IR:AUD:Swap_6M:25y</td>\n",
       "    </tr>\n",
       "    <tr>\n",
       "      <th>2</th>\n",
       "      <td>AUDSM6AB25Y=TWEB</td>\n",
       "      <td>Market Price</td>\n",
       "      <td>2020-10-15T00:09:15.975061000Z</td>\n",
       "      <td>-4</td>\n",
       "      <td>Trade</td>\n",
       "      <td>1.160</td>\n",
       "      <td>NaN</td>\n",
       "      <td>NaN</td>\n",
       "      <td>IR:AUD:Swap_6M:25y</td>\n",
       "    </tr>\n",
       "    <tr>\n",
       "      <th>3</th>\n",
       "      <td>AUDSM6AB25Y=TWEB</td>\n",
       "      <td>Market Price</td>\n",
       "      <td>2020-10-15T00:09:15.975061000Z</td>\n",
       "      <td>-4</td>\n",
       "      <td>Quote</td>\n",
       "      <td>NaN</td>\n",
       "      <td>1.160</td>\n",
       "      <td>1.186</td>\n",
       "      <td>IR:AUD:Swap_6M:25y</td>\n",
       "    </tr>\n",
       "    <tr>\n",
       "      <th>4</th>\n",
       "      <td>AUDSM6AB25Y=TWEB</td>\n",
       "      <td>Market Price</td>\n",
       "      <td>2020-10-15T00:09:17.430824000Z</td>\n",
       "      <td>-4</td>\n",
       "      <td>Trade</td>\n",
       "      <td>1.160</td>\n",
       "      <td>NaN</td>\n",
       "      <td>NaN</td>\n",
       "      <td>IR:AUD:Swap_6M:25y</td>\n",
       "    </tr>\n",
       "    <tr>\n",
       "      <th>...</th>\n",
       "      <td>...</td>\n",
       "      <td>...</td>\n",
       "      <td>...</td>\n",
       "      <td>...</td>\n",
       "      <td>...</td>\n",
       "      <td>...</td>\n",
       "      <td>...</td>\n",
       "      <td>...</td>\n",
       "      <td>...</td>\n",
       "    </tr>\n",
       "    <tr>\n",
       "      <th>1645</th>\n",
       "      <td>AUDSM6AB25Y=TWEB</td>\n",
       "      <td>Market Price</td>\n",
       "      <td>2020-10-15T21:33:22.014640000Z</td>\n",
       "      <td>-4</td>\n",
       "      <td>Quote</td>\n",
       "      <td>NaN</td>\n",
       "      <td>1.143</td>\n",
       "      <td>1.173</td>\n",
       "      <td>IR:AUD:Swap_6M:25y</td>\n",
       "    </tr>\n",
       "    <tr>\n",
       "      <th>1646</th>\n",
       "      <td>AUDSM6AB25Y=TWEB</td>\n",
       "      <td>Market Price</td>\n",
       "      <td>2020-10-15T21:33:23.134698000Z</td>\n",
       "      <td>-4</td>\n",
       "      <td>Trade</td>\n",
       "      <td>1.146</td>\n",
       "      <td>NaN</td>\n",
       "      <td>NaN</td>\n",
       "      <td>IR:AUD:Swap_6M:25y</td>\n",
       "    </tr>\n",
       "    <tr>\n",
       "      <th>1647</th>\n",
       "      <td>AUDSM6AB25Y=TWEB</td>\n",
       "      <td>Market Price</td>\n",
       "      <td>2020-10-15T21:33:23.134698000Z</td>\n",
       "      <td>-4</td>\n",
       "      <td>Quote</td>\n",
       "      <td>NaN</td>\n",
       "      <td>1.146</td>\n",
       "      <td>1.172</td>\n",
       "      <td>IR:AUD:Swap_6M:25y</td>\n",
       "    </tr>\n",
       "    <tr>\n",
       "      <th>1648</th>\n",
       "      <td>AUDSM6AB25Y=TWEB</td>\n",
       "      <td>Market Price</td>\n",
       "      <td>2020-10-15T21:33:24.462774000Z</td>\n",
       "      <td>-4</td>\n",
       "      <td>Trade</td>\n",
       "      <td>1.147</td>\n",
       "      <td>NaN</td>\n",
       "      <td>NaN</td>\n",
       "      <td>IR:AUD:Swap_6M:25y</td>\n",
       "    </tr>\n",
       "    <tr>\n",
       "      <th>1649</th>\n",
       "      <td>AUDSM6AB25Y=TWEB</td>\n",
       "      <td>Market Price</td>\n",
       "      <td>2020-10-15T21:33:24.462774000Z</td>\n",
       "      <td>-4</td>\n",
       "      <td>Quote</td>\n",
       "      <td>NaN</td>\n",
       "      <td>1.147</td>\n",
       "      <td>1.173</td>\n",
       "      <td>IR:AUD:Swap_6M:25y</td>\n",
       "    </tr>\n",
       "  </tbody>\n",
       "</table>\n",
       "<p>1650 rows × 9 columns</p>\n",
       "</div>"
      ],
      "text/plain": [
       "                   RIC        Domain                       Date-Time  \\\n",
       "0     AUDSM6AB25Y=TWEB  Market Price  2020-10-15T00:09:14.890626000Z   \n",
       "1     AUDSM6AB25Y=TWEB  Market Price  2020-10-15T00:09:14.890626000Z   \n",
       "2     AUDSM6AB25Y=TWEB  Market Price  2020-10-15T00:09:15.975061000Z   \n",
       "3     AUDSM6AB25Y=TWEB  Market Price  2020-10-15T00:09:15.975061000Z   \n",
       "4     AUDSM6AB25Y=TWEB  Market Price  2020-10-15T00:09:17.430824000Z   \n",
       "...                ...           ...                             ...   \n",
       "1645  AUDSM6AB25Y=TWEB  Market Price  2020-10-15T21:33:22.014640000Z   \n",
       "1646  AUDSM6AB25Y=TWEB  Market Price  2020-10-15T21:33:23.134698000Z   \n",
       "1647  AUDSM6AB25Y=TWEB  Market Price  2020-10-15T21:33:23.134698000Z   \n",
       "1648  AUDSM6AB25Y=TWEB  Market Price  2020-10-15T21:33:24.462774000Z   \n",
       "1649  AUDSM6AB25Y=TWEB  Market Price  2020-10-15T21:33:24.462774000Z   \n",
       "\n",
       "      GMT Offset   Type  Price  Bid Price  Ask Price UserDefinedIdentifier  \n",
       "0             -4  Trade  1.164        NaN        NaN    IR:AUD:Swap_6M:25y  \n",
       "1             -4  Quote    NaN      1.164      1.189    IR:AUD:Swap_6M:25y  \n",
       "2             -4  Trade  1.160        NaN        NaN    IR:AUD:Swap_6M:25y  \n",
       "3             -4  Quote    NaN      1.160      1.186    IR:AUD:Swap_6M:25y  \n",
       "4             -4  Trade  1.160        NaN        NaN    IR:AUD:Swap_6M:25y  \n",
       "...          ...    ...    ...        ...        ...                   ...  \n",
       "1645          -4  Quote    NaN      1.143      1.173    IR:AUD:Swap_6M:25y  \n",
       "1646          -4  Trade  1.146        NaN        NaN    IR:AUD:Swap_6M:25y  \n",
       "1647          -4  Quote    NaN      1.146      1.172    IR:AUD:Swap_6M:25y  \n",
       "1648          -4  Trade  1.147        NaN        NaN    IR:AUD:Swap_6M:25y  \n",
       "1649          -4  Quote    NaN      1.147      1.173    IR:AUD:Swap_6M:25y  \n",
       "\n",
       "[1650 rows x 9 columns]"
      ]
     },
     "execution_count": 72,
     "metadata": {},
     "output_type": "execute_result"
    }
   ],
   "source": [
    "def visualise_data(data):\n",
    "    buffer = io.StringIO(data)\n",
    "    return pd.read_csv(buffer)\n",
    "\n",
    "data = process_file('epython/mktdata/refinitiv/raw_bars/20201015/IR=AUD=Swap_6M=25y(Ric_AUDSM6AB25Y=TWEB).csv.bz2')\n",
    "visualise_data(data)"
   ]
  },
  {
   "cell_type": "markdown",
   "metadata": {},
   "source": [
    "## End to End"
   ]
  },
  {
   "cell_type": "markdown",
   "metadata": {},
   "source": [
    "### IR Insturments"
   ]
  },
  {
   "cell_type": "code",
   "execution_count": 85,
   "metadata": {},
   "outputs": [
    {
     "name": "stdout",
     "output_type": "stream",
     "text": [
      "processing file 0\n",
      "reading from file: epython/mktdata/refinitiv/raw_bars/20201014/IR=AUD=Swap_3M=12y(Ric_AUDQM3AB12Y=FMD).csv.bz2\n",
      "writing to file: epython-marketdata/refinitiv/date=20201014/ccy=AUD/curve=Swap_3M/tenor=12y/IR=AUD=Swap_3M=12y(Ric_AUDQM3AB12Y=FMD).csv.bz2\n",
      "processing file 1\n",
      "reading from file: epython/mktdata/refinitiv/raw_bars/20201014/IR=AUD=Swap_3M=12y(Ric_AUDQM3AB12Y=TWEB).csv.bz2\n",
      "writing to file: epython-marketdata/refinitiv/date=20201014/ccy=AUD/curve=Swap_3M/tenor=12y/IR=AUD=Swap_3M=12y(Ric_AUDQM3AB12Y=TWEB).csv.bz2\n",
      "processing file 2\n",
      "reading from file: epython/mktdata/refinitiv/raw_bars/20201014/IR=AUD=Swap_3M=15y(Ric_AUDQM3AB15Y=FMD).csv.bz2\n",
      "writing to file: epython-marketdata/refinitiv/date=20201014/ccy=AUD/curve=Swap_3M/tenor=15y/IR=AUD=Swap_3M=15y(Ric_AUDQM3AB15Y=FMD).csv.bz2\n",
      "processing file 3\n",
      "reading from file: epython/mktdata/refinitiv/raw_bars/20201014/IR=AUD=Swap_3M=15y(Ric_AUDQM3AB15Y=TWEB).csv.bz2\n",
      "writing to file: epython-marketdata/refinitiv/date=20201014/ccy=AUD/curve=Swap_3M/tenor=15y/IR=AUD=Swap_3M=15y(Ric_AUDQM3AB15Y=TWEB).csv.bz2\n",
      "processing file 4\n",
      "reading from file: epython/mktdata/refinitiv/raw_bars/20201014/IR=AUD=Swap_3M=1y(Ric_AUDQM3AB1Y=BGCP).csv.bz2\n",
      "writing to file: epython-marketdata/refinitiv/date=20201014/ccy=AUD/curve=Swap_3M/tenor=1y/IR=AUD=Swap_3M=1y(Ric_AUDQM3AB1Y=BGCP).csv.bz2\n",
      "processing file 5\n",
      "reading from file: epython/mktdata/refinitiv/raw_bars/20201014/IR=AUD=Swap_3M=1y(Ric_AUDQM3AB1Y=GFIS).csv.bz2\n",
      "writing to file: epython-marketdata/refinitiv/date=20201014/ccy=AUD/curve=Swap_3M/tenor=1y/IR=AUD=Swap_3M=1y(Ric_AUDQM3AB1Y=GFIS).csv.bz2\n",
      "processing file 6\n",
      "reading from file: epython/mktdata/refinitiv/raw_bars/20201014/IR=AUD=Swap_3M=20y(Ric_AUDQM3AB20Y=FMD).csv.bz2\n",
      "writing to file: epython-marketdata/refinitiv/date=20201014/ccy=AUD/curve=Swap_3M/tenor=20y/IR=AUD=Swap_3M=20y(Ric_AUDQM3AB20Y=FMD).csv.bz2\n"
     ]
    }
   ],
   "source": [
    "paths = get_files_for_inst('IR')\n",
    "\n",
    "inst_type = 'IR'\n",
    "for i, path in enumerate(paths):\n",
    "    src_path = SRC_BUCKET + '/' + path\n",
    "    print(f'processing file {i}')\n",
    "    print(f'reading from file: {src_path}')\n",
    "    data = process_file(src_path)\n",
    "    \n",
    "    dst_path = DST_BUCKET + '/' + get_dest_path(inst_type, path)\n",
    "    compressed = bz2.compress(data.encode())\n",
    "    print(f'writing to file: {dst_path}')\n",
    "    with s3.open(dst_path, 'wb') as f:\n",
    "        f.write(compressed)\n",
    "\n",
    "    # When we are happy with the results,\n",
    "    # we take out this and it'll run for all\n",
    "    if i > 5:\n",
    "        break"
   ]
  },
  {
   "cell_type": "markdown",
   "metadata": {},
   "source": [
    "## Checking the result\n",
    "\n",
    "Let's read the results back just to make sure it is okay"
   ]
  },
  {
   "cell_type": "code",
   "execution_count": 87,
   "metadata": {},
   "outputs": [
    {
     "data": {
      "text/html": [
       "<div>\n",
       "<style scoped>\n",
       "    .dataframe tbody tr th:only-of-type {\n",
       "        vertical-align: middle;\n",
       "    }\n",
       "\n",
       "    .dataframe tbody tr th {\n",
       "        vertical-align: top;\n",
       "    }\n",
       "\n",
       "    .dataframe thead th {\n",
       "        text-align: right;\n",
       "    }\n",
       "</style>\n",
       "<table border=\"1\" class=\"dataframe\">\n",
       "  <thead>\n",
       "    <tr style=\"text-align: right;\">\n",
       "      <th></th>\n",
       "      <th>RIC</th>\n",
       "      <th>Domain</th>\n",
       "      <th>Date-Time</th>\n",
       "      <th>GMT Offset</th>\n",
       "      <th>Type</th>\n",
       "      <th>Price</th>\n",
       "      <th>Bid Price</th>\n",
       "      <th>Ask Price</th>\n",
       "      <th>UserDefinedIdentifier</th>\n",
       "    </tr>\n",
       "  </thead>\n",
       "  <tbody>\n",
       "    <tr>\n",
       "      <th>0</th>\n",
       "      <td>AUDQM3AB20Y=FMD</td>\n",
       "      <td>Market Price</td>\n",
       "      <td>2020-10-15T00:01:54.962672000Z</td>\n",
       "      <td>0</td>\n",
       "      <td>Quote</td>\n",
       "      <td>NaN</td>\n",
       "      <td>0.2201</td>\n",
       "      <td>0.2501</td>\n",
       "      <td>IR:AUD:Swap_3M:20y</td>\n",
       "    </tr>\n",
       "    <tr>\n",
       "      <th>1</th>\n",
       "      <td>AUDQM3AB20Y=FMD</td>\n",
       "      <td>Market Price</td>\n",
       "      <td>2020-10-15T00:07:57.846693000Z</td>\n",
       "      <td>0</td>\n",
       "      <td>Quote</td>\n",
       "      <td>NaN</td>\n",
       "      <td>0.2200</td>\n",
       "      <td>0.2500</td>\n",
       "      <td>IR:AUD:Swap_3M:20y</td>\n",
       "    </tr>\n",
       "    <tr>\n",
       "      <th>2</th>\n",
       "      <td>AUDQM3AB20Y=FMD</td>\n",
       "      <td>Market Price</td>\n",
       "      <td>2020-10-15T00:08:00.119248000Z</td>\n",
       "      <td>0</td>\n",
       "      <td>Quote</td>\n",
       "      <td>NaN</td>\n",
       "      <td>0.2191</td>\n",
       "      <td>0.2491</td>\n",
       "      <td>IR:AUD:Swap_3M:20y</td>\n",
       "    </tr>\n",
       "    <tr>\n",
       "      <th>3</th>\n",
       "      <td>AUDQM3AB20Y=FMD</td>\n",
       "      <td>Market Price</td>\n",
       "      <td>2020-10-15T00:08:50.726670000Z</td>\n",
       "      <td>0</td>\n",
       "      <td>Quote</td>\n",
       "      <td>NaN</td>\n",
       "      <td>0.2192</td>\n",
       "      <td>0.2492</td>\n",
       "      <td>IR:AUD:Swap_3M:20y</td>\n",
       "    </tr>\n",
       "    <tr>\n",
       "      <th>4</th>\n",
       "      <td>AUDQM3AB20Y=FMD</td>\n",
       "      <td>Market Price</td>\n",
       "      <td>2020-10-15T00:09:06.998694000Z</td>\n",
       "      <td>0</td>\n",
       "      <td>Quote</td>\n",
       "      <td>NaN</td>\n",
       "      <td>0.2191</td>\n",
       "      <td>0.2491</td>\n",
       "      <td>IR:AUD:Swap_3M:20y</td>\n",
       "    </tr>\n",
       "    <tr>\n",
       "      <th>...</th>\n",
       "      <td>...</td>\n",
       "      <td>...</td>\n",
       "      <td>...</td>\n",
       "      <td>...</td>\n",
       "      <td>...</td>\n",
       "      <td>...</td>\n",
       "      <td>...</td>\n",
       "      <td>...</td>\n",
       "      <td>...</td>\n",
       "    </tr>\n",
       "    <tr>\n",
       "      <th>274</th>\n",
       "      <td>AUDQM3AB20Y=FMD</td>\n",
       "      <td>Market Price</td>\n",
       "      <td>2020-10-15T23:54:44.162701000Z</td>\n",
       "      <td>0</td>\n",
       "      <td>Quote</td>\n",
       "      <td>NaN</td>\n",
       "      <td>0.2128</td>\n",
       "      <td>0.2428</td>\n",
       "      <td>IR:AUD:Swap_3M:20y</td>\n",
       "    </tr>\n",
       "    <tr>\n",
       "      <th>275</th>\n",
       "      <td>AUDQM3AB20Y=FMD</td>\n",
       "      <td>Market Price</td>\n",
       "      <td>2020-10-15T23:57:58.794724000Z</td>\n",
       "      <td>0</td>\n",
       "      <td>Quote</td>\n",
       "      <td>NaN</td>\n",
       "      <td>0.2127</td>\n",
       "      <td>0.2427</td>\n",
       "      <td>IR:AUD:Swap_3M:20y</td>\n",
       "    </tr>\n",
       "    <tr>\n",
       "      <th>276</th>\n",
       "      <td>AUDQM3AB20Y=FMD</td>\n",
       "      <td>Market Price</td>\n",
       "      <td>2020-10-15T23:58:01.082740000Z</td>\n",
       "      <td>0</td>\n",
       "      <td>Quote</td>\n",
       "      <td>NaN</td>\n",
       "      <td>0.2128</td>\n",
       "      <td>0.2428</td>\n",
       "      <td>IR:AUD:Swap_3M:20y</td>\n",
       "    </tr>\n",
       "    <tr>\n",
       "      <th>277</th>\n",
       "      <td>AUDQM3AB20Y=FMD</td>\n",
       "      <td>Market Price</td>\n",
       "      <td>2020-10-15T23:58:48.670694000Z</td>\n",
       "      <td>0</td>\n",
       "      <td>Quote</td>\n",
       "      <td>NaN</td>\n",
       "      <td>0.2127</td>\n",
       "      <td>0.2427</td>\n",
       "      <td>IR:AUD:Swap_3M:20y</td>\n",
       "    </tr>\n",
       "    <tr>\n",
       "      <th>278</th>\n",
       "      <td>AUDQM3AB20Y=FMD</td>\n",
       "      <td>Market Price</td>\n",
       "      <td>2020-10-15T23:58:49.682703000Z</td>\n",
       "      <td>0</td>\n",
       "      <td>Quote</td>\n",
       "      <td>NaN</td>\n",
       "      <td>0.2128</td>\n",
       "      <td>0.2428</td>\n",
       "      <td>IR:AUD:Swap_3M:20y</td>\n",
       "    </tr>\n",
       "  </tbody>\n",
       "</table>\n",
       "<p>279 rows × 9 columns</p>\n",
       "</div>"
      ],
      "text/plain": [
       "                 RIC        Domain                       Date-Time  \\\n",
       "0    AUDQM3AB20Y=FMD  Market Price  2020-10-15T00:01:54.962672000Z   \n",
       "1    AUDQM3AB20Y=FMD  Market Price  2020-10-15T00:07:57.846693000Z   \n",
       "2    AUDQM3AB20Y=FMD  Market Price  2020-10-15T00:08:00.119248000Z   \n",
       "3    AUDQM3AB20Y=FMD  Market Price  2020-10-15T00:08:50.726670000Z   \n",
       "4    AUDQM3AB20Y=FMD  Market Price  2020-10-15T00:09:06.998694000Z   \n",
       "..               ...           ...                             ...   \n",
       "274  AUDQM3AB20Y=FMD  Market Price  2020-10-15T23:54:44.162701000Z   \n",
       "275  AUDQM3AB20Y=FMD  Market Price  2020-10-15T23:57:58.794724000Z   \n",
       "276  AUDQM3AB20Y=FMD  Market Price  2020-10-15T23:58:01.082740000Z   \n",
       "277  AUDQM3AB20Y=FMD  Market Price  2020-10-15T23:58:48.670694000Z   \n",
       "278  AUDQM3AB20Y=FMD  Market Price  2020-10-15T23:58:49.682703000Z   \n",
       "\n",
       "     GMT Offset   Type  Price  Bid Price  Ask Price UserDefinedIdentifier  \n",
       "0             0  Quote    NaN     0.2201     0.2501    IR:AUD:Swap_3M:20y  \n",
       "1             0  Quote    NaN     0.2200     0.2500    IR:AUD:Swap_3M:20y  \n",
       "2             0  Quote    NaN     0.2191     0.2491    IR:AUD:Swap_3M:20y  \n",
       "3             0  Quote    NaN     0.2192     0.2492    IR:AUD:Swap_3M:20y  \n",
       "4             0  Quote    NaN     0.2191     0.2491    IR:AUD:Swap_3M:20y  \n",
       "..          ...    ...    ...        ...        ...                   ...  \n",
       "274           0  Quote    NaN     0.2128     0.2428    IR:AUD:Swap_3M:20y  \n",
       "275           0  Quote    NaN     0.2127     0.2427    IR:AUD:Swap_3M:20y  \n",
       "276           0  Quote    NaN     0.2128     0.2428    IR:AUD:Swap_3M:20y  \n",
       "277           0  Quote    NaN     0.2127     0.2427    IR:AUD:Swap_3M:20y  \n",
       "278           0  Quote    NaN     0.2128     0.2428    IR:AUD:Swap_3M:20y  \n",
       "\n",
       "[279 rows x 9 columns]"
      ]
     },
     "execution_count": 87,
     "metadata": {},
     "output_type": "execute_result"
    }
   ],
   "source": [
    "def read_data(path):\n",
    "    with s3.open(path, 'rb') as f:\n",
    "        data = f.read()\n",
    "\n",
    "    return visualise_data(bz2.decompress(data).decode())\n",
    "    \n",
    "path = 'epython-marketdata/refinitiv/date=20201014/ccy=AUD/curve=Swap_3M/tenor=20y/IR=AUD=Swap_3M=20y(Ric_AUDQM3AB20Y=FMD).csv.bz2'\n",
    "read_data(path)"
   ]
  },
  {
   "cell_type": "markdown",
   "metadata": {},
   "source": [
    "And everything looks good :D"
   ]
  }
 ],
 "metadata": {
  "kernelspec": {
   "display_name": "Python 3",
   "language": "python",
   "name": "python3"
  },
  "language_info": {
   "codemirror_mode": {
    "name": "ipython",
    "version": 3
   },
   "file_extension": ".py",
   "mimetype": "text/x-python",
   "name": "python",
   "nbconvert_exporter": "python",
   "pygments_lexer": "ipython3",
   "version": "3.8.2"
  }
 },
 "nbformat": 4,
 "nbformat_minor": 4
}
