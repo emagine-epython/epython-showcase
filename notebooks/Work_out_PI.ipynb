{
  "nbformat": 4,
  "nbformat_minor": 0,
  "metadata": {
    "colab": {
      "name": "Work out PI.ipynb",
      "provenance": [],
      "collapsed_sections": []
    },
    "kernelspec": {
      "name": "python3",
      "display_name": "Python 3"
    },
    "accelerator": "TPU"
  },
  "cells": [
    {
      "cell_type": "code",
      "metadata": {
        "id": "sQfcLteYzim4"
      },
      "source": [
        "import tensorflow as tf"
      ],
      "execution_count": 5,
      "outputs": []
    },
    {
      "cell_type": "markdown",
      "metadata": {
        "id": "qkcJC1In-f-B"
      },
      "source": [
        "## Setting up the Monte Carlo\r\n"
      ]
    },
    {
      "cell_type": "markdown",
      "metadata": {
        "id": "WwB_VgV587Ei"
      },
      "source": [
        "Imagine a 1x1 square. We throw random darts at it.\r\n",
        "We can get the Area by seeing number of darts that are at a distance of no more than 1unit from the centre.\r\n",
        "\r\n",
        "Since `area` is $\\pi r^2$ and $r = 0.5$\r\n",
        "\r\n",
        "$\\pi = \\frac{A(r)}{r^2} = \\frac{A}{0.25} = 4A$\r\n"
      ]
    },
    {
      "cell_type": "code",
      "metadata": {
        "id": "qU8A1vk30R9u"
      },
      "source": [
        "def calc_pi(num_sims=100000000):\r\n",
        "  x = tf.random.uniform(shape=[num_sims]) - 0.5\r\n",
        "  y = tf.random.uniform(shape=[num_sims]) - 0.5\r\n",
        "\r\n",
        "  distance = tf.math.sqrt(\r\n",
        "      x*x + y*y, name='Distance'\r\n",
        "  )\r\n",
        "\r\n",
        "  within_radius = tf.cast(distance < 0.5, tf.int32)\r\n",
        "  area = tf.reduce_sum(within_radius) / num_sims\r\n",
        "  return (4 * area).numpy()"
      ],
      "execution_count": 6,
      "outputs": []
    },
    {
      "cell_type": "code",
      "metadata": {
        "colab": {
          "base_uri": "https://localhost:8080/"
        },
        "id": "NqJVieJVMInF",
        "outputId": "ab2244e6-6301-4f84-c556-54617438c3c9"
      },
      "source": [
        "calc_pi()"
      ],
      "execution_count": 7,
      "outputs": [
        {
          "output_type": "execute_result",
          "data": {
            "text/plain": [
              "3.14177036"
            ]
          },
          "metadata": {
            "tags": []
          },
          "execution_count": 7
        }
      ]
    },
    {
      "cell_type": "markdown",
      "metadata": {
        "id": "hF15QWH-A8Hv"
      },
      "source": [
        "## CPU"
      ]
    },
    {
      "cell_type": "code",
      "metadata": {
        "colab": {
          "base_uri": "https://localhost:8080/"
        },
        "id": "gXRn3c4aAYQ0",
        "outputId": "b3be3d87-960a-4c5b-e80d-07b06da4df30"
      },
      "source": [
        "tf.config.list_physical_devices()"
      ],
      "execution_count": 4,
      "outputs": [
        {
          "output_type": "execute_result",
          "data": {
            "text/plain": [
              "[PhysicalDevice(name='/physical_device:CPU:0', device_type='CPU')]"
            ]
          },
          "metadata": {
            "tags": []
          },
          "execution_count": 4
        }
      ]
    },
    {
      "cell_type": "code",
      "metadata": {
        "colab": {
          "base_uri": "https://localhost:8080/"
        },
        "id": "nPH9uHPsA3pG",
        "outputId": "247a58f4-f7e8-4e78-ce88-4b6546a84324"
      },
      "source": [
        "%%timeit\r\n",
        "calc_pi()"
      ],
      "execution_count": 5,
      "outputs": [
        {
          "output_type": "stream",
          "text": [
            "1 loop, best of 3: 1.9 s per loop\n"
          ],
          "name": "stdout"
        }
      ]
    },
    {
      "cell_type": "markdown",
      "metadata": {
        "id": "RvVVJ-o9A6Xn"
      },
      "source": [
        "## GPU"
      ]
    },
    {
      "cell_type": "code",
      "metadata": {
        "colab": {
          "base_uri": "https://localhost:8080/"
        },
        "id": "Bbmpy9cQDagl",
        "outputId": "00492336-9084-4cab-a593-3cc6ad730be7"
      },
      "source": [
        "tf.config.list_physical_devices()"
      ],
      "execution_count": 33,
      "outputs": [
        {
          "output_type": "execute_result",
          "data": {
            "text/plain": [
              "[PhysicalDevice(name='/physical_device:CPU:0', device_type='CPU'),\n",
              " PhysicalDevice(name='/physical_device:GPU:0', device_type='GPU')]"
            ]
          },
          "metadata": {
            "tags": []
          },
          "execution_count": 33
        }
      ]
    },
    {
      "cell_type": "code",
      "metadata": {
        "colab": {
          "base_uri": "https://localhost:8080/"
        },
        "id": "yP9kE57L-Yhn",
        "outputId": "f798cac1-5435-4693-a9a7-4f44cd717a6b"
      },
      "source": [
        "%%timeit\r\n",
        "calc_pi()"
      ],
      "execution_count": 35,
      "outputs": [
        {
          "output_type": "stream",
          "text": [
            "10 loops, best of 3: 185 ms per loop\n"
          ],
          "name": "stdout"
        }
      ]
    },
    {
      "cell_type": "markdown",
      "metadata": {
        "id": "RuVu1rSIBAL-"
      },
      "source": [
        "## TPU"
      ]
    },
    {
      "cell_type": "code",
      "metadata": {
        "colab": {
          "base_uri": "https://localhost:8080/"
        },
        "id": "dqhJMZAWDX_e",
        "outputId": "63e76628-14de-4705-b907-4e3e006ef3e3"
      },
      "source": [
        "tf.config.list_physical_devices()"
      ],
      "execution_count": 8,
      "outputs": [
        {
          "output_type": "execute_result",
          "data": {
            "text/plain": [
              "[PhysicalDevice(name='/physical_device:CPU:0', device_type='CPU')]"
            ]
          },
          "metadata": {
            "tags": []
          },
          "execution_count": 8
        }
      ]
    },
    {
      "cell_type": "code",
      "metadata": {
        "colab": {
          "base_uri": "https://localhost:8080/"
        },
        "id": "Y4OAym68AXnb",
        "outputId": "76f2c5a5-a4b0-4b07-d1a0-de067ced4051"
      },
      "source": [
        "%%timeit\r\n",
        "calc_pi()\r\n"
      ],
      "execution_count": 9,
      "outputs": [
        {
          "output_type": "stream",
          "text": [
            "1 loop, best of 3: 1.91 s per loop\n"
          ],
          "name": "stdout"
        }
      ]
    }
  ]
}