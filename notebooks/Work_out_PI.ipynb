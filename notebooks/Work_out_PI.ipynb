{
  "nbformat": 4,
  "nbformat_minor": 0,
  "metadata": {
    "colab": {
      "name": "Work out PI.ipynb",
      "provenance": [],
      "collapsed_sections": []
    },
    "kernelspec": {
      "name": "python3",
      "display_name": "Python 3"
    },
    "accelerator": "GPU"
  },
  "cells": [
    {
      "cell_type": "code",
      "metadata": {
        "id": "sQfcLteYzim4"
      },
      "source": [
        "import tensorflow as tf"
      ],
      "execution_count": 5,
      "outputs": []
    },
    {
      "cell_type": "markdown",
      "metadata": {
        "id": "qkcJC1In-f-B"
      },
      "source": [
        "## Setting up the Monte Carlo\r\n"
      ]
    },
    {
      "cell_type": "markdown",
      "metadata": {
        "id": "WwB_VgV587Ei"
      },
      "source": [
        "Imagine a 1x1 square. We throw random darts at it.\r\n",
        "We can get the Area by seeing number of darts that are at a distance of no more than 1unit from the centre.\r\n",
        "\r\n",
        "Since `area` is $\\pi r^2$ and $r = 0.5$\r\n",
        "\r\n",
        "$\\pi = \\frac{A(r)}{r^2} = \\frac{A}{0.25} = 4A$\r\n"
      ]
    },
    {
      "cell_type": "code",
      "metadata": {
        "id": "qU8A1vk30R9u"
      },
      "source": [
        "def calc_pi(num_sims=100000000):\r\n",
        "  x = tf.random.uniform(shape=[num_sims]) * 2 - 1\r\n",
        "  y = tf.random.uniform(shape=[num_sims]) * 2 - 1\r\n",
        "\r\n",
        "  distance = tf.math.sqrt(\r\n",
        "      x*x + y*y, name='Distance'\r\n",
        "  )\r\n",
        "\r\n",
        "  within_radius = tf.cast(distance < 1, tf.int32)\r\n",
        "  area = tf.reduce_sum(within_radius) / num_sims\r\n",
        "  return 4 * area"
      ],
      "execution_count": 6,
      "outputs": []
    },
    {
      "cell_type": "code",
      "metadata": {
        "colab": {
          "base_uri": "https://localhost:8080/"
        },
        "id": "NqJVieJVMInF",
        "outputId": "0bc71721-c094-4908-f8bd-998eaf9285ee"
      },
      "source": [
        "calc_pi().numpy()"
      ],
      "execution_count": null,
      "outputs": [
        {
          "output_type": "execute_result",
          "data": {
            "text/plain": [
              "3.14152004"
            ]
          },
          "metadata": {
            "tags": []
          },
          "execution_count": 13
        }
      ]
    },
    {
      "cell_type": "markdown",
      "metadata": {
        "id": "hF15QWH-A8Hv"
      },
      "source": [
        "## CPU"
      ]
    },
    {
      "cell_type": "code",
      "metadata": {
        "colab": {
          "base_uri": "https://localhost:8080/"
        },
        "id": "gXRn3c4aAYQ0",
        "outputId": "bd74f4a2-7049-46ea-f7bc-41618a19cfca"
      },
      "source": [
        "tf.config.list_physical_devices()"
      ],
      "execution_count": null,
      "outputs": [
        {
          "output_type": "execute_result",
          "data": {
            "text/plain": [
              "[PhysicalDevice(name='/physical_device:CPU:0', device_type='CPU')]"
            ]
          },
          "metadata": {
            "tags": []
          },
          "execution_count": 5
        }
      ]
    },
    {
      "cell_type": "code",
      "metadata": {
        "colab": {
          "base_uri": "https://localhost:8080/"
        },
        "id": "nPH9uHPsA3pG",
        "outputId": "328f7e61-f40b-40cf-c86c-d5948d49da0d"
      },
      "source": [
        "%%timeit\r\n",
        "calc_pi()"
      ],
      "execution_count": null,
      "outputs": [
        {
          "output_type": "stream",
          "text": [
            "1 loop, best of 3: 2.03 s per loop\n"
          ],
          "name": "stdout"
        }
      ]
    },
    {
      "cell_type": "markdown",
      "metadata": {
        "id": "RvVVJ-o9A6Xn"
      },
      "source": [
        "## GPU"
      ]
    },
    {
      "cell_type": "code",
      "metadata": {
        "colab": {
          "base_uri": "https://localhost:8080/"
        },
        "id": "Bbmpy9cQDagl",
        "outputId": "549f86b3-036f-4d7a-9681-d0b93324ad87"
      },
      "source": [
        "tf.config.list_physical_devices()"
      ],
      "execution_count": null,
      "outputs": [
        {
          "output_type": "execute_result",
          "data": {
            "text/plain": [
              "[PhysicalDevice(name='/physical_device:CPU:0', device_type='CPU'),\n",
              " PhysicalDevice(name='/physical_device:GPU:0', device_type='GPU')]"
            ]
          },
          "metadata": {
            "tags": []
          },
          "execution_count": 9
        }
      ]
    },
    {
      "cell_type": "code",
      "metadata": {
        "colab": {
          "base_uri": "https://localhost:8080/"
        },
        "id": "yP9kE57L-Yhn",
        "outputId": "0e1f527b-1db1-4a1b-aa60-5b176daec52d"
      },
      "source": [
        "%%timeit\r\n",
        "calc_pi()"
      ],
      "execution_count": 7,
      "outputs": [
        {
          "output_type": "stream",
          "text": [
            "10 loops, best of 3: 191 ms per loop\n"
          ],
          "name": "stdout"
        }
      ]
    },
    {
      "cell_type": "markdown",
      "metadata": {
        "id": "RuVu1rSIBAL-"
      },
      "source": [
        "## TPU"
      ]
    },
    {
      "cell_type": "code",
      "metadata": {
        "colab": {
          "base_uri": "https://localhost:8080/"
        },
        "id": "dqhJMZAWDX_e",
        "outputId": "4710f8db-f094-4354-9fd9-94f149517ebc"
      },
      "source": [
        "tf.config.list_physical_devices()"
      ],
      "execution_count": null,
      "outputs": [
        {
          "output_type": "execute_result",
          "data": {
            "text/plain": [
              "[PhysicalDevice(name='/physical_device:CPU:0', device_type='CPU')]"
            ]
          },
          "metadata": {
            "tags": []
          },
          "execution_count": 9
        }
      ]
    },
    {
      "cell_type": "code",
      "metadata": {
        "colab": {
          "base_uri": "https://localhost:8080/"
        },
        "id": "Y4OAym68AXnb",
        "outputId": "6fee0487-1409-4f07-dacc-14140093f70c"
      },
      "source": [
        "%%timeit\r\n",
        "calc_pi()\r\n"
      ],
      "execution_count": 3,
      "outputs": [
        {
          "output_type": "stream",
          "text": [
            "1 loop, best of 3: 2.07 s per loop\n"
          ],
          "name": "stdout"
        }
      ]
    }
  ]
}